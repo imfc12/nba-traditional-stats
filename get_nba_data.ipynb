{
 "cells": [
  {
   "cell_type": "markdown",
   "metadata": {},
   "source": [
    "Notebook to load data extract data from 'nba_api' endpoints and transfer into JSON files for later operations"
   ]
  },
  {
   "cell_type": "markdown",
   "metadata": {},
   "source": [
    "# Retrieve player details and dump into JSON file "
   ]
  },
  {
   "cell_type": "code",
   "execution_count": null,
   "metadata": {},
   "outputs": [],
   "source": [
    "\"\"\"Retrieve player details and dump into JSON\"\"\"\n",
    "# Player details retrieved: name (key), team, team abbreviation, player id, team id\n",
    "from nba_api.stats.endpoints.playerindex import PlayerIndex\n",
    "import json\n",
    "\n",
    "# Empty dictionary to store our cleaned player info\n",
    "players_dict = {}\n",
    "# Create the instance\n",
    "index = PlayerIndex()\n",
    "# Returns endpoint\n",
    "players = index.player_index\n",
    "# Create dictionary from endpoint\n",
    "raw_dict = players.get_dict()\n",
    "# Iterate over each player and create a dictionary with desired details\n",
    "for pl in raw_dict['data']:\n",
    "    players_dict[f'{pl[2]} {pl[1]}'] = {\n",
    "        'team': f'{pl[7]} {pl[8]}',\n",
    "        'abbreviation': pl[9],\n",
    "        'player_id': pl[0],\n",
    "        'team_id': pl[4],\n",
    "        'first_name': pl[2],\n",
    "        'last_name': pl[1]\n",
    "    }\n",
    "\n",
    "# Place the restructured data in JSON\n",
    "file = '/Files/player_details.json'\n",
    "with open(file, 'w') as f:\n",
    "    json.dump(players_dict, f, indent=3)"
   ]
  },
  {
   "cell_type": "markdown",
   "metadata": {},
   "source": [
    "# Retrieve NBA team details from static data and dump into JSON file"
   ]
  },
  {
   "cell_type": "code",
   "execution_count": null,
   "metadata": {},
   "outputs": [],
   "source": [
    "\"\"\"Retrieve NBA team details from static data and input into JSON file\"\"\"\n",
    "# Team details retrieved: name (key), team id, team abbreviation, nickname, city, state\n",
    "from nba_api.stats.static import teams\n",
    "import json\n",
    "\n",
    "nba_teams = {}\n",
    "\n",
    "all_teams = teams.get_teams()\n",
    "\n",
    "# Iterate over team data and restructure into 'nba_teams' dict\n",
    "for team in all_teams:\n",
    "    nba_teams[team['full_name']] = {\n",
    "        'id': team['id'],\n",
    "        'abbreviation': team['abbreviation'],\n",
    "        'nickname': team['nickname'],\n",
    "        'city': team['city'],\n",
    "        'state': team['state'],\n",
    "    }\n",
    "\n",
    "# Dump nba_teams into JSON\n",
    "file = '/Files/team_details.json'\n",
    "with open(file, 'w') as f:\n",
    "    json.dump(nba_teams, f, indent=3)"
   ]
  },
  {
   "cell_type": "markdown",
   "metadata": {},
   "source": [
    "# Load player traditional stats from endpoint\n",
    "##### Changed the way player stats are loaded"
   ]
  },
  {
   "cell_type": "code",
   "execution_count": null,
   "metadata": {},
   "outputs": [],
   "source": [
    "from nba_api.stats.endpoints.leaguedashplayerstats import LeagueDashPlayerStats\n",
    "import json\n",
    "\n",
    "# Load the players that we will need to iterate over (includes name, player_id, team_id) from JSON\n",
    "with open('Files/player_details.json', 'r') as f:\n",
    "    player_details = json.load(f)\n",
    "\n",
    "# Get raw data from endpoint\n",
    "raw_data = LeagueDashPlayerStats()\n",
    "# Identify headers\n",
    "player_headers = raw_data.get_dict()['resultSets'][0]['headers']\n",
    "# Identify result sets\n",
    "row_set = raw_data.get_dict()['resultSets'][0]['rowSet']\n",
    "# modify the headers to lower case\n",
    "lowered_headers = [hdr.lower() for hdr in player_headers]\n",
    "\n",
    "# Empty dict with restructured player season data - Dumped into JSON at the end\n",
    "player_stats = {}\n",
    "\n",
    "for player in row_set:\n",
    "    # Match the headers to the result sets, convert to player dictionary\n",
    "    player_data = dict(zip(lowered_headers, player[:32]))\n",
    "    # Add the current season\n",
    "    player_data['season'] = '2024-25'\n",
    "    # Remove unwanted fields\n",
    "    player_data.pop('nickname')\n",
    "    player_data.pop('team_abbreviation')\n",
    "    player_data.pop('age')\n",
    "    # Create sub dictionary for each player\n",
    "    current_player = player_data['player_name']\n",
    "    player_stats[current_player] = player_data\n",
    "\n",
    "# Output player_stats dictionary into JSON\n",
    "output_file = 'Files/player_data_new.json'\n",
    "with open(output_file, 'w') as f:\n",
    "    json.dump(player_stats, f, indent=3)\n",
    "\n",
    "print('Complete')"
   ]
  },
  {
   "cell_type": "markdown",
   "metadata": {},
   "source": [
    "# Load team traditional stats from endpoint"
   ]
  },
  {
   "cell_type": "code",
   "execution_count": null,
   "metadata": {},
   "outputs": [],
   "source": [
    "# Team Dashboards, team statistics\n",
    "# Same process above of retrieving player data/statistics\n",
    "from nba_api.stats.endpoints.teamdashboardbygeneralsplits import TeamDashboardByGeneralSplits as tdbgs\n",
    "from tqdm import tqdm\n",
    "import json\n",
    "import time\n",
    "\n",
    "team_stats = {}\n",
    "\n",
    "with open('/Files/team_details.json', 'r') as f:\n",
    "    team_details = json.load(f)\n",
    "\n",
    "for team, details in tqdm(team_details.items(), desc='Loading teams...'):\n",
    "    team_splits = tdbgs(team_id=details['id'], timeout=60)\n",
    "    current_team = team_splits.overall_team_dashboard.get_dict()\n",
    "\n",
    "    team_stats[team] = {\n",
    "        'team_id': details['id'],\n",
    "        'abbreviation': details['abbreviation'],\n",
    "        'team_name': team,\n",
    "        'season': current_team['data'][0][2],\n",
    "        'gp': current_team['data'][0][3],\n",
    "        'wins': current_team['data'][0][4],\n",
    "        'losses': current_team['data'][0][5],\n",
    "        'win_pct': current_team['data'][0][6],\n",
    "        'minutes': current_team['data'][0][7],\n",
    "        'fgm': current_team['data'][0][8],\n",
    "        'fga': current_team['data'][0][9],\n",
    "        'fg_pct': current_team['data'][0][10],\n",
    "        'fg3m': current_team['data'][0][11],\n",
    "        'fg3a': current_team['data'][0][12],\n",
    "        'fg3_pct': current_team['data'][0][13],\n",
    "        'ftm': current_team['data'][0][14],\n",
    "        'fta': current_team['data'][0][15],\n",
    "        'ft_pct': current_team['data'][0][16],\n",
    "        'oreb': current_team['data'][0][17],\n",
    "        'dreb': current_team['data'][0][18],\n",
    "        'reb': current_team['data'][0][19],\n",
    "        'ast': current_team['data'][0][20],\n",
    "        'tov': current_team['data'][0][21],\n",
    "        'stl': current_team['data'][0][22],\n",
    "        'blk': current_team['data'][0][23],\n",
    "        'blka': current_team['data'][0][24],\n",
    "        'pf': current_team['data'][0][25],\n",
    "        'pfd': current_team['data'][0][26],\n",
    "        'pts': current_team['data'][0][27],\n",
    "        'plus_minus': current_team['data'][0][28]\n",
    "    }\n",
    "\n",
    "    time.sleep(1)\n",
    "\n",
    "with open('/Files/team_data.json', 'w') as f:\n",
    "    json.dump(team_stats, f, indent=3)\n",
    "\n",
    "print('Complete')\n"
   ]
  }
 ],
 "metadata": {
  "kernelspec": {
   "display_name": "nba-env",
   "language": "python",
   "name": "python3"
  },
  "language_info": {
   "codemirror_mode": {
    "name": "ipython",
    "version": 3
   },
   "file_extension": ".py",
   "mimetype": "text/x-python",
   "name": "python",
   "nbconvert_exporter": "python",
   "pygments_lexer": "ipython3",
   "version": "3.13.2"
  }
 },
 "nbformat": 4,
 "nbformat_minor": 2
}

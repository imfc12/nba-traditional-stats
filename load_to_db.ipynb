{
 "cells": [
  {
   "cell_type": "markdown",
   "metadata": {},
   "source": [
    "Notebook to load data from JSON files, connect and load data to MySQL\n",
    "- Adding traditional stats for players and teams (two tables)"
   ]
  },
  {
   "cell_type": "code",
   "execution_count": 1,
   "metadata": {},
   "outputs": [],
   "source": [
    "import mysql.connector as connector\n",
    "from mysql.connector import Error, IntegrityError, InterfaceError\n",
    "from tqdm import tqdm\n",
    "from dotenv import load_dotenv\n",
    "import os\n",
    "import json\n",
    "import time"
   ]
  },
  {
   "cell_type": "code",
   "execution_count": null,
   "metadata": {},
   "outputs": [],
   "source": [
    "load_dotenv()\n",
    "pw = os.getenv('mysql_pw')\n",
    "connection = connector.connect(\n",
    "        host='localhost',\n",
    "        user='root',\n",
    "        password=pw,\n",
    "        port=3306\n",
    ")"
   ]
  },
  {
   "cell_type": "code",
   "execution_count": null,
   "metadata": {},
   "outputs": [],
   "source": [
    "cursor = connection.cursor()"
   ]
  },
  {
   "cell_type": "code",
   "execution_count": null,
   "metadata": {},
   "outputs": [],
   "source": [
    "cursor.execute('USE nba_traditional')"
   ]
  },
  {
   "cell_type": "code",
   "execution_count": null,
   "metadata": {},
   "outputs": [],
   "source": [
    "# Create query to insert teams into database\n",
    "insert_team_query = \"\"\"\n",
    "INSERT INTO teams (team_id,team_abbrev,team_name,season,gp,wins,losses,win_pct,minutes,fgm,fga,fg_pct,\n",
    "fg3m,fg3a,fg3_pct,ftm,fta,ft_pct,oreb,dreb,reb,ast,tov,stl,blk,blka,pf,pfd,pts,plus_minus)\n",
    "VALUES (%(team_id)s, %(abbreviation)s, %(team_name)s, %(season)s, %(gp)s, %(wins)s, %(losses)s,\n",
    "%(win_pct)s, %(minutes)s, %(fgm)s, %(fga)s, %(fg_pct)s, %(fg3m)s, %(fg3a)s, %(fg3_pct)s,\n",
    "%(ftm)s, %(fta)s, %(ft_pct)s, %(oreb)s, %(dreb)s, %(reb)s, %(ast)s, %(tov)s, %(stl)s,\n",
    "%(blk)s, %(blka)s, %(pf)s, %(pfd)s, %(pts)s, %(plus_minus)s)\"\"\""
   ]
  },
  {
   "cell_type": "code",
   "execution_count": null,
   "metadata": {},
   "outputs": [],
   "source": [
    "# Load TEAM data from JSON into the database\n",
    "with open('/Files/team_data.json', 'r') as f:\n",
    "    team_data = json.load(f)\n",
    "    \n",
    "for team in team_data:\n",
    "    cursor.execute(insert_team_query, team_data[team])\n",
    "    time.sleep(1)"
   ]
  },
  {
   "cell_type": "code",
   "execution_count": null,
   "metadata": {},
   "outputs": [],
   "source": [
    "# Create query to insert players into database\n",
    "insert_player_query = \"\"\"\n",
    "INSERT INTO players (player_id,team_id,player_name,season,gp,wins,losses,win_pct,minutes,fgm,fga,fg_pct,\n",
    "fg3m,fg3a,fg3_pct,ftm,fta,ft_pct,oreb,dreb,reb,ast,tov,stl,blk,blka,pf,pfd,pts,plus_minus)\n",
    "VALUES (%(player_id)s, %(team_id)s, %(player_name)s, %(season)s, %(gp)s, %(wins)s, %(losses)s,\n",
    "%(win_pct)s, %(minutes)s, %(fgm)s, %(fga)s, %(fg_pct)s, %(fg3m)s, %(fg3a)s, %(fg3_pct)s,\n",
    "%(ftm)s, %(fta)s, %(ft_pct)s, %(oreb)s, %(dreb)s, %(reb)s, %(ast)s, %(tov)s, %(stl)s,\n",
    "%(blk)s, %(blka)s, %(pf)s, %(pfd)s, %(pts)s, %(plus_minus)s)\"\"\""
   ]
  },
  {
   "cell_type": "code",
   "execution_count": null,
   "metadata": {},
   "outputs": [],
   "source": [
    "# Load player data from JSON into the database\n",
    "\n",
    "with open('/Files/player_data.json', 'r') as f:\n",
    "    player_data = json.load(f)\n",
    "\n",
    "for player in tqdm(player_data, desc='Uploading players...'):\n",
    "    try:\n",
    "        cursor.execute(insert_player_query, player_data[player])\n",
    "        time.sleep(0.5)\n",
    "    # Error checking\n",
    "    except Error as e:\n",
    "        print(\"General MySQL error: \", e)\n",
    "        print(f'The player was: {player}')\n",
    "    except InterfaceError as e:\n",
    "        print(\"Interface error: \", e)\n",
    "        print(f'The player was: {player}')\n",
    "    except IntegrityError as e:\n",
    "        print(\"Integrity error: \", e)\n",
    "        print(f'The player was: {player}')\n",
    "\n",
    "print('Complete')"
   ]
  },
  {
   "cell_type": "code",
   "execution_count": null,
   "metadata": {},
   "outputs": [],
   "source": [
    "# Test the outcome of the player query\n",
    "select_from_players_query = \"\"\"SELECT * FROM players\"\"\"\n",
    "cursor.execute(select_from_players_query)\n",
    "players = cursor.fetchall()\n",
    "\n",
    "for player in players:\n",
    "    print(player)"
   ]
  },
  {
   "cell_type": "code",
   "execution_count": null,
   "metadata": {},
   "outputs": [],
   "source": [
    "# Commit the connection\n",
    "connection.commit()"
   ]
  },
  {
   "cell_type": "code",
   "execution_count": 10,
   "metadata": {},
   "outputs": [],
   "source": [
    "# Close the connection\n",
    "connection.close()"
   ]
  }
 ],
 "metadata": {
  "kernelspec": {
   "display_name": "nba-env",
   "language": "python",
   "name": "python3"
  },
  "language_info": {
   "codemirror_mode": {
    "name": "ipython",
    "version": 3
   },
   "file_extension": ".py",
   "mimetype": "text/x-python",
   "name": "python",
   "nbconvert_exporter": "python",
   "pygments_lexer": "ipython3",
   "version": "3.13.2"
  }
 },
 "nbformat": 4,
 "nbformat_minor": 2
}
